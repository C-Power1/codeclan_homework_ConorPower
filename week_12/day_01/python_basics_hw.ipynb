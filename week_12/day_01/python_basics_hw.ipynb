{
 "cells": [
  {
   "cell_type": "markdown",
   "metadata": {},
   "source": [
    "# MVP"
   ]
  },
  {
   "cell_type": "markdown",
   "metadata": {},
   "source": [
    "Question 1: Write a function that takes in a list and returns a two-element list containing the first and last elements of the inputted list. For example, for input [3, 6, 2,  19], the function should return [3, 19]"
   ]
  },
  {
   "cell_type": "code",
   "execution_count": 8,
   "metadata": {},
   "outputs": [],
   "source": [
    "def first_and_last(input_list):\n",
    "    return [input_list[0], input_list[-1]] \n",
    "\n",
    "new_list = [3, 2, 2, 2, 8]"
   ]
  },
  {
   "cell_type": "code",
   "execution_count": 9,
   "metadata": {},
   "outputs": [
    {
     "data": {
      "text/plain": [
       "[3, 8]"
      ]
     },
     "execution_count": 9,
     "metadata": {},
     "output_type": "execute_result"
    }
   ],
   "source": [
    "first_and_last(new_list)"
   ]
  },
  {
   "cell_type": "markdown",
   "metadata": {},
   "source": [
    "Question 2: Write a function that takes in a sentence and returns a dictionary containing a count of letters and digits"
   ]
  },
  {
   "cell_type": "code",
   "execution_count": 91,
   "metadata": {},
   "outputs": [
    {
     "name": "stdout",
     "output_type": "stream",
     "text": [
      "digits:3\n",
      "letters:10\n"
     ]
    }
   ],
   "source": [
    "sentence_1 = \"hello world! 123\"\n",
    "\n",
    "def digits_and_letters_count(string):\n",
    "    letter_count=0\n",
    "    digit_count=0\n",
    "    for i in string:\n",
    "        if(i.isdigit()):\n",
    "            digit_count=digit_count+1\n",
    "        elif i.isalpha():\n",
    "            letter_count=letter_count+1\n",
    "    print(\"digits:\"+str(digit_count))\n",
    "    print(\"letters:\"+str(letter_count))\n",
    "    \n",
    "digits_and_letters_count(sentence_1)"
   ]
  }
 ],
 "metadata": {
  "kernelspec": {
   "display_name": "Python 3",
   "language": "python",
   "name": "python3"
  },
  "language_info": {
   "codemirror_mode": {
    "name": "ipython",
    "version": 3
   },
   "file_extension": ".py",
   "mimetype": "text/x-python",
   "name": "python",
   "nbconvert_exporter": "python",
   "pygments_lexer": "ipython3",
   "version": "3.7.4"
  }
 },
 "nbformat": 4,
 "nbformat_minor": 2
}
